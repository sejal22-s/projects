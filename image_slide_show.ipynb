{
 "cells": [
  {
   "cell_type": "code",
   "execution_count": 1,
   "id": "1fa1b9fd-9261-4ce1-a7e7-19e83e82bf68",
   "metadata": {},
   "outputs": [],
   "source": [
    "from itertools import cycle\n"
   ]
  },
  {
   "cell_type": "code",
   "execution_count": 2,
   "id": "72910fba-f3f7-4019-8f2d-6fc960dfac36",
   "metadata": {},
   "outputs": [],
   "source": [
    "from PIL import Image,ImageTk"
   ]
  },
  {
   "cell_type": "code",
   "execution_count": 3,
   "id": "b4d76924-c82b-4ee3-9d07-675919d3ed82",
   "metadata": {},
   "outputs": [],
   "source": [
    "import time"
   ]
  },
  {
   "cell_type": "code",
   "execution_count": 4,
   "id": "4d5dc732-d4ec-4866-b54d-9c5752a4a4e1",
   "metadata": {},
   "outputs": [],
   "source": [
    "import tkinter as tk"
   ]
  },
  {
   "cell_type": "code",
   "execution_count": 5,
   "id": "0c2a3691-897f-4903-a0f4-df3d4077a3e3",
   "metadata": {},
   "outputs": [],
   "source": [
    "root =  tk.Tk()                        #this root window is created to show the slide show"
   ]
  },
  {
   "cell_type": "code",
   "execution_count": null,
   "id": "ff233ecf-b04c-4495-acc6-449375e8d52c",
   "metadata": {},
   "outputs": [],
   "source": [
    "root.title(\"Image Slideshow Viewer\")    #now to set the root window title which is image slide show viewer means inshort creating the headline\n",
    "\n",
    "#List of Image Pth\n",
    "image_paths = [\n",
    "    r\"C:\\Users\\Dell\\Pictures\\Snapchat-733688234.jpg\",\n",
    "    r\"C:\\Users\\Dell\\Pictures\\Snapchat-1461287552.jpg\",\n",
    "    r\"C:\\Users\\Dell\\Pictures\\Snapchat-658644968.jpg\"\n",
    "]  #here r means the raw string wich means back slash is not the except char.....here except char means wich give the special meaning \\n means new line\n",
    "\n",
    "#Resize the image to 1080X1080\n",
    "image_size = (1080,1080)\n",
    "images = [Image.open(path).resize(image_size) for path in image_paths]\n",
    "photo_images = [ImageTk.PhotoImage(image) for image in images]\n",
    "\n",
    "label = tk.Label(root)\n",
    "label.pack()\n",
    "\n",
    "def update_image():\n",
    "    for photo_image in photo_images:\n",
    "        label.config(image=photo_image)\n",
    "        label.update()\n",
    "        time.sleep(3)\n",
    "\n",
    "#this will iterate the image infinite time\n",
    "slidshow = cycle(photo_images)\n",
    "def start_slidshow():\n",
    "    for _ in range(len(image_paths)):\n",
    "        update_image()\n",
    "\n",
    "play_button = tk.Button(root, text='Play',command=start_slidshow)\n",
    "play_button.pack()\n",
    "\n",
    "root.mainloop()"
   ]
  },
  {
   "cell_type": "code",
   "execution_count": null,
   "id": "a095c73c-6452-471d-a676-0cef725e4754",
   "metadata": {},
   "outputs": [],
   "source": []
  }
 ],
 "metadata": {
  "kernelspec": {
   "display_name": "Python 3 (ipykernel)",
   "language": "python",
   "name": "python3"
  },
  "language_info": {
   "codemirror_mode": {
    "name": "ipython",
    "version": 3
   },
   "file_extension": ".py",
   "mimetype": "text/x-python",
   "name": "python",
   "nbconvert_exporter": "python",
   "pygments_lexer": "ipython3",
   "version": "3.11.7"
  }
 },
 "nbformat": 4,
 "nbformat_minor": 5
}
