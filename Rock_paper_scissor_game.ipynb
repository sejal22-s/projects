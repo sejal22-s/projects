{
 "cells": [
  {
   "cell_type": "code",
   "execution_count": 8,
   "id": "e249fdd2-5de2-47ee-a13d-08cd487317b9",
   "metadata": {},
   "outputs": [
    {
     "name": "stdin",
     "output_type": "stream",
     "text": [
      "Enter your move = rock,paper,scissor rock\n"
     ]
    },
    {
     "name": "stdout",
     "output_type": "stream",
     "text": [
      "user choice = rock, comp_choice = paper\n",
      "Paper covers rock = Computer wins\n"
     ]
    }
   ],
   "source": [
    "\"\"\"\n",
    "Workflow of project\n",
    "1) Input from user(Rock,Paper,Scissor)\n",
    "2) Computer choice(means computer will choose randomly not conditionally)\n",
    "3) Result print\n",
    "\n",
    "Cases:\n",
    "A) Rock\n",
    "rock - rock = tie\n",
    "rock - paper = paper win\n",
    "rock - scissor = rock win\n",
    "\n",
    "B) Paper\n",
    "paper - paper = tie\n",
    "paper - rock = paper win\n",
    "paper - scissor = scissor win\n",
    "\n",
    "C) Scissor\n",
    "scissor - scissor = tie\n",
    "scissor - rock = rock win\n",
    "scissor - paper = scissor win\n",
    "\n",
    "\"\"\"\n",
    "import random\n",
    "\n",
    "list=[\"rock\",\"paper\",\"scissor\"]\n",
    "user_choice=input(\"Enter your move = rock,paper,scissor\")\n",
    "comp_choice=random.choice(list) #here by using this choice function computer will randomly choose the move\n",
    "print(f'user choice = {user_choice}, comp_choice = {comp_choice}')\n",
    "if(user_choice==comp_choice):\n",
    "    print(\"Match tie  becoz both chooses same\")\n",
    "elif(user_choice=='rock'):\n",
    "    if(comp_choice=='paper'):\n",
    "        print(\"Paper covers rock = Computer wins\")\n",
    "    else:\n",
    "        print(\"Rock smashes scissor = You win\")\n",
    "elif(user_choice=='paper'):\n",
    "    if(comp_choice=='rock'):\n",
    "        print(\"Paper covers rock = You win\")\n",
    "    else:\n",
    "        print(\"Scissor cuts the paper = Computer wins\")\n",
    "elif(user_choice=='scissor'):\n",
    "    if(comp_choice=='rock'):\n",
    "        print(\"Rock smashes the scissor = Computer wins\")\n",
    "    else:\n",
    "        print(\"Scissor cuts the paper = You win\")"
   ]
  },
  {
   "cell_type": "code",
   "execution_count": null,
   "id": "1134e67f-adc6-44a1-af6b-f8b6278c8180",
   "metadata": {},
   "outputs": [],
   "source": []
  }
 ],
 "metadata": {
  "kernelspec": {
   "display_name": "Python 3 (ipykernel)",
   "language": "python",
   "name": "python3"
  },
  "language_info": {
   "codemirror_mode": {
    "name": "ipython",
    "version": 3
   },
   "file_extension": ".py",
   "mimetype": "text/x-python",
   "name": "python",
   "nbconvert_exporter": "python",
   "pygments_lexer": "ipython3",
   "version": "3.11.7"
  }
 },
 "nbformat": 4,
 "nbformat_minor": 5
}
