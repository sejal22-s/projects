{
 "cells": [
  {
   "cell_type": "code",
   "execution_count": 3,
   "id": "71b2253f-8110-4e72-a38e-6abc5dbda8cb",
   "metadata": {},
   "outputs": [],
   "source": [
    "import tkinter as tk"
   ]
  },
  {
   "cell_type": "code",
   "execution_count": 5,
   "id": "fadb7a5d-1572-4d16-9b60-064379948bfb",
   "metadata": {},
   "outputs": [],
   "source": [
    "from time import strftime #by using strftime we can set the time according to our will"
   ]
  },
  {
   "cell_type": "code",
   "execution_count": 8,
   "id": "047eba2e-72cb-4f6e-a5b2-70e4f5d4ebb0",
   "metadata": {},
   "outputs": [
    {
     "ename": "AttributeError",
     "evalue": "module 'tkinter' has no attribute 'lable'",
     "output_type": "error",
     "traceback": [
      "\u001b[1;31m---------------------------------------------------------------------------\u001b[0m",
      "\u001b[1;31mAttributeError\u001b[0m                            Traceback (most recent call last)",
      "Cell \u001b[1;32mIn[8], line 9\u001b[0m\n\u001b[0;32m      6\u001b[0m     label\u001b[38;5;241m.\u001b[39mconfig(text\u001b[38;5;241m=\u001b[39mstring)\n\u001b[0;32m      7\u001b[0m     label\u001b[38;5;241m.\u001b[39mafter(\u001b[38;5;241m1000\u001b[39m,time) \u001b[38;5;66;03m#using this after function here the time will get updated very seconds and will show current time and date\u001b[39;00m\n\u001b[1;32m----> 9\u001b[0m label \u001b[38;5;241m=\u001b[39m tk\u001b[38;5;241m.\u001b[39mlable(root, font\u001b[38;5;241m=\u001b[39m(\u001b[38;5;124m'\u001b[39m\u001b[38;5;124mcalibri\u001b[39m\u001b[38;5;124m'\u001b[39m,\u001b[38;5;241m50\u001b[39m,\u001b[38;5;124m'\u001b[39m\u001b[38;5;124mbold\u001b[39m\u001b[38;5;124m'\u001b[39m),background\u001b[38;5;241m=\u001b[39m\u001b[38;5;124m'\u001b[39m\u001b[38;5;124myellow\u001b[39m\u001b[38;5;124m'\u001b[39m,foreground\u001b[38;5;241m=\u001b[39m\u001b[38;5;124m'\u001b[39m\u001b[38;5;124mblack\u001b[39m\u001b[38;5;124m'\u001b[39m)\n\u001b[0;32m     10\u001b[0m lable\u001b[38;5;241m.\u001b[39mpack(anchor\u001b[38;5;241m=\u001b[39m\u001b[38;5;124m'\u001b[39m\u001b[38;5;124mcenter\u001b[39m\u001b[38;5;124m'\u001b[39m) \u001b[38;5;66;03m#packmethod is use to set all the elements in proper order.........And by using this pack method we are placing the label object in root window.......here the anchor is assigned with the center tribute so that the lable obj will be placed in the center\u001b[39;00m\n\u001b[0;32m     12\u001b[0m time()\n",
      "\u001b[1;31mAttributeError\u001b[0m: module 'tkinter' has no attribute 'lable'"
     ]
    }
   ],
   "source": [
    "root = tk.Tk()   #the root window is created by using tkinter module, with the help of this root window we can display the values and root window is very important\n",
    "root.title(\"Digital Clock\")\n",
    "\n",
    "def time():\n",
    "    string = strftime('%H:%M%S %p \\n %D')\n",
    "    label.config(text=string)\n",
    "    label.after(1000,time) #using this after function here the time will get updated very seconds and will show current time and date\n",
    "\n",
    "label = tk.Lable(root, font=('calibri',50,'bold'),background='yellow',foreground='black')\n",
    "lable.pack(anchor='center') #packmethod is use to set all the elements in proper order.........And by using this pack method we are placing the label object in root window.......here the anchor is assigned with the center tribute so that the lable obj will be placed in the center\n",
    "\n",
    "time()\n",
    "\n",
    "root.mainloop()"
   ]
  },
  {
   "cell_type": "code",
   "execution_count": null,
   "id": "eff7254c-fe0b-49cf-83a4-edf5b7622fee",
   "metadata": {},
   "outputs": [],
   "source": []
  }
 ],
 "metadata": {
  "kernelspec": {
   "display_name": "Python 3 (ipykernel)",
   "language": "python",
   "name": "python3"
  },
  "language_info": {
   "codemirror_mode": {
    "name": "ipython",
    "version": 3
   },
   "file_extension": ".py",
   "mimetype": "text/x-python",
   "name": "python",
   "nbconvert_exporter": "python",
   "pygments_lexer": "ipython3",
   "version": "3.11.7"
  }
 },
 "nbformat": 4,
 "nbformat_minor": 5
}
