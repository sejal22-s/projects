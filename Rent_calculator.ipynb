{
 "cells": [
  {
   "cell_type": "code",
   "execution_count": null,
   "id": "8dcda056-91d6-4840-99aa-7b741b7422c1",
   "metadata": {},
   "outputs": [],
   "source": [
    "##Inputs we need from the user\n",
    "#Total Rent\n",
    "#Total food ordered for snacking\n",
    "#electricity units spend \n",
    "#Charge per unit\n",
    "#persons living in room of flat\n",
    "\n",
    "##Output\n",
    "#total amount you have to pay is \n",
    "\n",
    "rent=int(input(\"Enter your flat rent=\"))\n",
    "food=int(input(\"Enter the amount of food ordered=\"))\n",
    "electricity=int(input(\"Enter the total of electricity spend=\"))\n",
    "charge_per_unit=int(input(\"Enter the charge per unit=\"))\n",
    "persons=int(input(\"Enter the number of persons living in flat=\"))\n",
    "\n",
    "total_bill = electricity * charge_per_unit\n",
    "\n",
    "output = (rent + food + total_bill) / persons\n",
    "print(\"Each person will pay\")\n"
   ]
  }
 ],
 "metadata": {
  "kernelspec": {
   "display_name": "Python 3 (ipykernel)",
   "language": "python",
   "name": "python3"
  },
  "language_info": {
   "codemirror_mode": {
    "name": "ipython",
    "version": 3
   },
   "file_extension": ".py",
   "mimetype": "text/x-python",
   "name": "python",
   "nbconvert_exporter": "python",
   "pygments_lexer": "ipython3",
   "version": "3.11.7"
  }
 },
 "nbformat": 4,
 "nbformat_minor": 5
}
