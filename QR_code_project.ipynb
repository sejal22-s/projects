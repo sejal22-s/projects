{
 "cells": [
  {
   "cell_type": "code",
   "execution_count": 2,
   "id": "cf9ec10e-eadb-4c1a-b764-eec4aee82a6c",
   "metadata": {},
   "outputs": [
    {
     "name": "stdout",
     "output_type": "stream",
     "text": [
      "Requirement already satisfied: qrcode in c:\\users\\dell\\anaconda3\\lib\\site-packages (7.4.2)\n",
      "Requirement already satisfied: typing-extensions in c:\\users\\dell\\anaconda3\\lib\\site-packages (from qrcode) (4.9.0)\n",
      "Requirement already satisfied: pypng in c:\\users\\dell\\anaconda3\\lib\\site-packages (from qrcode) (0.20220715.0)\n",
      "Requirement already satisfied: colorama in c:\\users\\dell\\anaconda3\\lib\\site-packages (from qrcode) (0.4.6)\n",
      "Note: you may need to restart the kernel to use updated packages.\n"
     ]
    }
   ],
   "source": [
    "pip install qrcode"
   ]
  },
  {
   "cell_type": "code",
   "execution_count": 1,
   "id": "3c5373d2-be09-4d99-a4e1-d9038d0df48a",
   "metadata": {},
   "outputs": [
    {
     "name": "stdout",
     "output_type": "stream",
     "text": [
      "Requirement already satisfied: pillow in c:\\users\\dell\\anaconda3\\lib\\site-packages (10.2.0)\n",
      "Note: you may need to restart the kernel to use updated packages.\n"
     ]
    }
   ],
   "source": [
    "pip install pillow"
   ]
  },
  {
   "cell_type": "code",
   "execution_count": 2,
   "id": "dd67bc78-af9f-4e73-993c-3c52fbf16e1c",
   "metadata": {},
   "outputs": [],
   "source": [
    "#Accept Payment With python\n",
    "import qrcode"
   ]
  },
  {
   "cell_type": "code",
   "execution_count": 4,
   "id": "98a5202c-be52-45ac-a84a-283e6571bc26",
   "metadata": {},
   "outputs": [
    {
     "name": "stdin",
     "output_type": "stream",
     "text": [
      "Enter the UPI ID= 9665516892@ybl\n"
     ]
    }
   ],
   "source": [
    "#taking UPI id as the input\n",
    "upi_id=input(\"Enter the UPI ID=\")\n",
    "#upi://pay?pa=UPI_ID%apn=NAME&am=Amount&cu=CURRENCY&tn=MESSAGE\n",
    "#Here pa---> means their is the upi id were we want to do the payment\n",
    "# pn--->Recipent name,am---> amount,cu--->currency(INR),tn--->messgebox\n",
    "\n",
    "#Defining the payment URL based on UPI ID and the payment app\n",
    "phonepe_url= f'upi://pay?pa={upi_id}&pn=Recipient%20Name&mc=1234'\n",
    "paytm_url= f'upi://pay?pa={upi_id}&pn=Recipient%20Name&mc=1234'\n",
    "google_pay_url= f'upi://pay?pa={upi_id}&pn=Recipient%20Name&mc=1234'\n",
    "\n",
    "#Create QR Codes for Each payment app\n",
    "phonepe_qr=qrcode.make(phonepe_url)\n",
    "paytm_qr=qrcode.make(paytm_url)\n",
    "google_pay_qr=qrcode.make(google_pay_url)\n",
    "\n",
    "#Save QR Code to image file\n",
    "phonepe_qr.save('phonepe_qr.png')\n",
    "paytm_qr.save('paytm_qr.png')\n",
    "google_pay_qr.save('google_pay_qr.png')\n",
    "\n",
    "#Now to display the QR code we will use the PIL/pillow Viewer and this is use for image processing and their is a viewer present in the library which helps to show the images so to invoke this show method \n",
    "phonepe_qr.show()\n",
    "paytm_qr.show()\n",
    "google_pay_qr.show()\n"
   ]
  },
  {
   "cell_type": "code",
   "execution_count": null,
   "id": "3f48a5b8-ac37-4bac-ac36-0266a750d344",
   "metadata": {},
   "outputs": [],
   "source": []
  }
 ],
 "metadata": {
  "kernelspec": {
   "display_name": "Python 3 (ipykernel)",
   "language": "python",
   "name": "python3"
  },
  "language_info": {
   "codemirror_mode": {
    "name": "ipython",
    "version": 3
   },
   "file_extension": ".py",
   "mimetype": "text/x-python",
   "name": "python",
   "nbconvert_exporter": "python",
   "pygments_lexer": "ipython3",
   "version": "3.11.7"
  }
 },
 "nbformat": 4,
 "nbformat_minor": 5
}
