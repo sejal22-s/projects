{
 "cells": [
  {
   "cell_type": "code",
   "execution_count": null,
   "id": "b2fa2f81-1454-49a1-924b-c7b50b234f80",
   "metadata": {},
   "outputs": [],
   "source": [
    "#Ordering a food iteam from the Swiggy by applying the promocodes "
   ]
  },
  {
   "cell_type": "code",
   "execution_count": 9,
   "id": "78b3b673-7cf4-43b8-b65d-452fb3eb993b",
   "metadata": {},
   "outputs": [
    {
     "name": "stdout",
     "output_type": "stream",
     "text": [
      "Select the hotel from where you want to order the food\n",
      "Bliss\n",
      "MyMate\n",
      "Dominos\n"
     ]
    },
    {
     "name": "stdin",
     "output_type": "stream",
     "text": [
      "Enter the hotel Dominos\n"
     ]
    },
    {
     "name": "stdout",
     "output_type": "stream",
     "text": [
      "Thankyou for choosing us\n",
      "Please Enter the Food Item you want to order.Here is the dishes:\n",
      "Tandoori_Pizza: Rs150\n",
      "Margretta_Pizza: Rs120\n",
      "Garlic_Bread: Rs70\n",
      "Pepsi: Rs20\n"
     ]
    },
    {
     "name": "stdin",
     "output_type": "stream",
     "text": [
      "Enter your 1st item Tandoori_Pizza\n"
     ]
    },
    {
     "name": "stdout",
     "output_type": "stream",
     "text": [
      "Your Order is successfully placed\n"
     ]
    },
    {
     "name": "stdin",
     "output_type": "stream",
     "text": [
      "Do you want to place another order? (Yes/NO) No\n"
     ]
    },
    {
     "name": "stdout",
     "output_type": "stream",
     "text": [
      "Total Amount to pay 150\n",
      "No Promocode for this order\n"
     ]
    }
   ],
   "source": [
    "hotel=['Bliss','MyMate','Dominos']\n",
    "\n",
    "Bliss={'Paneer_Butter_Masala':130,'Naan':40,'Roti':35,'Paneer Masala':120,'Masala papad':25,'Ice-cream':40}\n",
    "MyMate={'Pizza':150,'Burger':90,'Cold Coffee':50,'Tea':30,'Vadapav':40}\n",
    "Dominos={'Tandoori_Pizza':150,'Margretta_Pizza':160,'Garlic_Bread':100,'Pepsi':25}\n",
    "\n",
    "bliss_Promocode='GET60'\n",
    "mymate_Promocode='GET100'\n",
    "dominos_Promocode='GET50'\n",
    "\n",
    "bliss_order=0\n",
    "mymate_order=0\n",
    "dominos_order=0\n",
    "\n",
    "\n",
    "print(\"Select the hotel from where you want to order the food\")\n",
    "print(\"Bliss\\nMyMate\\nDominos\")\n",
    "Hotel=input(\"Enter the hotel\")\n",
    "\n",
    "\n",
    "if(Hotel=='Bliss'):\n",
    "    print(\"Thankyou for choosing us\")\n",
    "    print(\"Please Enter the Food Item your want to order.Here is the dishes:\")\n",
    "    print(\"Paneer_Butter_Masala: Rs130\\nNaan: Rs40\\nRoti: Rs35\\nPaneer Masala: Rs120\\nMasala papad: Rs25\\nIce-cream: Rs40\")\n",
    "    item_1=input(\"Enter your 1st item\")\n",
    "    if item_1 in Bliss:\n",
    "        bliss_order=bliss_order+Bliss[item_1]\n",
    "        print(\"Your Order is successfully placed\")\n",
    "    else:\n",
    "        print(\"Please order something that is present in the menu\")\n",
    "    another_item=input(\"Do you want to place another order? (Yes/NO)\")\n",
    "    if(another_item==\"Yes\"):\n",
    "        item_2=input(\"Enter the name of another food item\")\n",
    "        if item_2 in Bliss:\n",
    "            bliss_order=bliss_order+Bliss[item_2]\n",
    "            print(\"Your Second order is successfully placed\")\n",
    "        else:\n",
    "            print(\"Please order something that is present in the menu\")\n",
    "    print(\"Total Amount to pay\",bliss_order)\n",
    "    if(bliss_order>100):\n",
    "        print(\"Applying the promocode of GET60:\")\n",
    "        print(\"total bill:\",bliss_order - 60 )\n",
    "    else:\n",
    "        print(\"No Promocode for this order\")\n",
    "        \n",
    "        \n",
    "\n",
    "if(Hotel=='MyMate'):\n",
    "    print(\"Thankyou for choosing us\")\n",
    "    print(\"Please Enter the Food Item you want to order,Here is the dishes:\")\n",
    "    print(\"Pizza: Rs100\\nBurger: Rs60\\nCold Coffee: Rs50\\nTea: Rs20\\nVadapav: Rs25\")\n",
    "    item_1=input(\"Enter your 1st item\")\n",
    "    if item_1 in MyMate:\n",
    "        mymate_order=mymate_order+MyMate[item_1]\n",
    "        print(\"Your Order is successfully placed\")\n",
    "    else:\n",
    "        print(\"Please order something that is present in the menu\")\n",
    "    another_item=input(\"Do you want to place another order? (Yes/NO)\")\n",
    "    if(another_item==\"Yes\"):\n",
    "        item_2=input(\"Enter the name of another food item\")\n",
    "        if item_2 in MyMate:\n",
    "            mymate_order=mymate_order+MyMate[item_2]\n",
    "            print(\"Your Second order is successfully placed\")\n",
    "        else:\n",
    "            print(\"Please order something that is present in the menu\")  \n",
    "    print(\"Total Amount to pay\",mymate_order)\n",
    "    if(mymate_order>150):\n",
    "        print(\"Applying the promocode of GET100:\")\n",
    "        print(\"total bill:\",mymate_order - 100 )\n",
    "    else:\n",
    "        print(\"No Promocode for this order\")\n",
    "\n",
    "if(Hotel=='Dominos'):\n",
    "    print(\"Thankyou for choosing us\")\n",
    "    print(\"Please Enter the Food Item you want to order.Here is the dishes:\")\n",
    "    print(\"Tandoori_Pizza: Rs150\\nMargretta_Pizza: Rs120\\nGarlic_Bread: Rs70\\nPepsi: Rs20\")\n",
    "    item_1=input(\"Enter your 1st item\")\n",
    "    if item_1 in Dominos:\n",
    "        dominos_order=dominos_order+Dominos[item_1]\n",
    "        print(\"Your Order is successfully placed\")\n",
    "    else:\n",
    "        print(\"Please order something that is present in the menu\")\n",
    "    another_item=input(\"Do you want to place another order? (Yes/NO)\")\n",
    "    if(another_item==\"Yes\"):\n",
    "        item_2=input(\"Enter the name of another food item\")\n",
    "        if item_2 in Dominos:\n",
    "            dominos_order=dominos_order+Dominos[item_2]\n",
    "            print(\"Your Second order is successfully placed\")\n",
    "        else:\n",
    "            print(\"Please order something that is present in the menu\")\n",
    "    print(\"Total Amount to pay\",dominos_order)\n",
    "    if(dominos_order>200):\n",
    "        print(\"Applying the promocode of GET50:\")\n",
    "        print(\"total bill:\",dominos_order - 50 )\n",
    "    else:\n",
    "        print(\"No Promocode for this order\")\n",
    "\n"
   ]
  },
  {
   "cell_type": "code",
   "execution_count": null,
   "id": "a522b587-642d-4ffd-95d6-d2aa86966c09",
   "metadata": {},
   "outputs": [],
   "source": []
  }
 ],
 "metadata": {
  "kernelspec": {
   "display_name": "Python 3 (ipykernel)",
   "language": "python",
   "name": "python3"
  },
  "language_info": {
   "codemirror_mode": {
    "name": "ipython",
    "version": 3
   },
   "file_extension": ".py",
   "mimetype": "text/x-python",
   "name": "python",
   "nbconvert_exporter": "python",
   "pygments_lexer": "ipython3",
   "version": "3.11.7"
  }
 },
 "nbformat": 4,
 "nbformat_minor": 5
}
