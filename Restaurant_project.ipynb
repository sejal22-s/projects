{
 "cells": [
  {
   "cell_type": "code",
   "execution_count": 15,
   "id": "fb62bd08-3909-47e1-8589-863d13316b8e",
   "metadata": {},
   "outputs": [
    {
     "name": "stdout",
     "output_type": "stream",
     "text": [
      "Welcome to our Fulfilling restaurant\n",
      "For ordering the food, Here is the menu :\n",
      "Pizza: Rs100\n",
      "Sandwich: Rs60\n",
      "Burger: Rs70\n",
      "French Fries: Rs80\n",
      "Cold Coffee: Rs130\n",
      "Tea: Rs20\n",
      "Salad: Rs90\n"
     ]
    },
    {
     "name": "stdin",
     "output_type": "stream",
     "text": [
      "Please Enter the Food Item you want to order Tea\n"
     ]
    },
    {
     "name": "stdout",
     "output_type": "stream",
     "text": [
      "Your Order is successfully placed\n"
     ]
    },
    {
     "name": "stdin",
     "output_type": "stream",
     "text": [
      "Do you want to place another order? (Yes/NO) Yes\n",
      "Enter the name of another food item Cold Coffee\n"
     ]
    },
    {
     "name": "stdout",
     "output_type": "stream",
     "text": [
      "Your Second order is successfully placed\n",
      "Total Amount to pay 150\n"
     ]
    }
   ],
   "source": [
    "print(\"Welcome to our Fulfilling restaurant\")\n",
    "menu={\"Pizza\":100,\n",
    "      \"Sandwich\":60,\n",
    "      \"Burger\":70,\n",
    "      \"French Fries\":80,\n",
    "      \"Cold Coffee\":130,\n",
    "      \"Tea\":20,\n",
    "      \"Salad\":90\n",
    "     }\n",
    "print(\"For ordering the food, Here is the menu :\")\n",
    "print(\"Pizza: Rs100\\nSandwich: Rs60\\nBurger: Rs70\\nFrench Fries: Rs80\\nCold Coffee: Rs130\\nTea: Rs20\\nSalad: Rs90\")\n",
    "order_total=0\n",
    "item_1=input(\"Please Enter the Food Item you want to order\")\n",
    "if item_1 in menu:\n",
    "    order_total=order_total+menu[item_1]\n",
    "    print(\"Your Order is successfully placed\")\n",
    "else:\n",
    "    print(\"Please order something that is present in the menu\")\n",
    "another_item=input(\"Do you want to place another order? (Yes/NO)\")\n",
    "if(another_item==\"Yes\"):\n",
    "    item_2=input(\"Enter the name of another food item\")\n",
    "    if item_2 in menu:\n",
    "        order_total=order_total+menu[item_2]\n",
    "        print(\"Your Second order is successfully placed\")\n",
    "    else:\n",
    "        print(\"Please order something that is present in the menu\")\n",
    "print(\"Total Amount to pay\",order_total)\n",
    "    \n",
    "\n"
   ]
  },
  {
   "cell_type": "code",
   "execution_count": null,
   "id": "9d493562-d55f-42ef-9c77-ee79a0047a3b",
   "metadata": {},
   "outputs": [],
   "source": []
  }
 ],
 "metadata": {
  "kernelspec": {
   "display_name": "Python 3 (ipykernel)",
   "language": "python",
   "name": "python3"
  },
  "language_info": {
   "codemirror_mode": {
    "name": "ipython",
    "version": 3
   },
   "file_extension": ".py",
   "mimetype": "text/x-python",
   "name": "python",
   "nbconvert_exporter": "python",
   "pygments_lexer": "ipython3",
   "version": "3.11.7"
  }
 },
 "nbformat": 4,
 "nbformat_minor": 5
}
