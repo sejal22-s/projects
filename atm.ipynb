{
 "cells": [
  {
   "cell_type": "code",
   "execution_count": 36,
   "id": "ca1fe814-7264-41ac-a3f5-94547680f4b1",
   "metadata": {},
   "outputs": [
    {
     "name": "stdin",
     "output_type": "stream",
     "text": [
      "enter pin 1234\n"
     ]
    },
    {
     "name": "stdout",
     "output_type": "stream",
     "text": [
      "correct pin\n",
      "1 for balance enquiry\n",
      "2 for withdrawl\n",
      "3 for chnage pin\n",
      "4 for deposit\n",
      "5 for Mini statement\n"
     ]
    },
    {
     "name": "stdin",
     "output_type": "stream",
     "text": [
      "enter the option 2\n"
     ]
    },
    {
     "name": "stdout",
     "output_type": "stream",
     "text": [
      "Enter the amount of withdrawl\n"
     ]
    },
    {
     "name": "stdin",
     "output_type": "stream",
     "text": [
      " 100\n"
     ]
    },
    {
     "name": "stdout",
     "output_type": "stream",
     "text": [
      "The available balance is 99900\n"
     ]
    }
   ],
   "source": [
    "balance=100000\n",
    "a = int(input(\"enter pin\"))\n",
    "if(a==1234):\n",
    "    print(\"correct pin\")\n",
    "    print(\"1 for balance enquiry\")\n",
    "    print(\"2 for withdrawl\")\n",
    "    print(\"3 for chnage pin\")\n",
    "    print(\"4 for deposit\")\n",
    "    print(\"5 for Mini statement\")\n",
    "    b=int(input(\"enter the option\"))\n",
    "    if(b==1):\n",
    "        print(\"Your available balance\",balance)\n",
    "    elif(b==2):\n",
    "        print(\"Enter the amount of withdrawl\")\n",
    "        c=int(input(\"\"))\n",
    "        if(c>balance):\n",
    "            print(\"insufficient balance\")\n",
    "        elif(c<=balance):\n",
    "            print(\"The available balance is\",balance-c)\n",
    "        else:\n",
    "            print(\"\")\n",
    "        \n",
    "    elif(b==3):\n",
    "        print(\"enter new pin\")\n",
    "        print (\"your pin is set successfully\")\n",
    "    elif(b==4):\n",
    "        print(\"enter the amout\")\n",
    "    elif(b==5):\n",
    "        print(\"current statement\")\n",
    "else:\n",
    "    print(\"incorrect pin\")\n",
    "   \n",
    "    \n"
   ]
  },
  {
   "cell_type": "code",
   "execution_count": 14,
   "id": "11d83f88-4fcc-4c70-9951-c409fbc3ebe3",
   "metadata": {},
   "outputs": [
    {
     "data": {
      "text/plain": [
       "2"
      ]
     },
     "execution_count": 14,
     "metadata": {},
     "output_type": "execute_result"
    }
   ],
   "source": [
    "1\n"
   ]
  },
  {
   "cell_type": "code",
   "execution_count": null,
   "id": "72ac7252-a406-4e70-b22a-614ee5492147",
   "metadata": {},
   "outputs": [],
   "source": []
  }
 ],
 "metadata": {
  "kernelspec": {
   "display_name": "Python 3 (ipykernel)",
   "language": "python",
   "name": "python3"
  },
  "language_info": {
   "codemirror_mode": {
    "name": "ipython",
    "version": 3
   },
   "file_extension": ".py",
   "mimetype": "text/x-python",
   "name": "python",
   "nbconvert_exporter": "python",
   "pygments_lexer": "ipython3",
   "version": "3.11.7"
  }
 },
 "nbformat": 4,
 "nbformat_minor": 5
}
